{
 "cells": [
  {
   "cell_type": "markdown",
   "id": "0c72a6e8-6d6d-4811-81f6-8d49cd43ecde",
   "metadata": {
    "tags": []
   },
   "source": [
    "### Aufgaben\n",
    "\n",
    "Hier werden für den Stichprobenumfang n=100\n",
    "\n",
    "- zur Wahrscheinlichkeit p=0,26 das 95%-Prognoseintervall,\n",
    "- zur relativen Häufigkeit h=0,18 das 95%-Konfidenzintervall\n",
    "- exakt und auch näherungsweise berechnet.\n",
    "\n",
    "a) Zeigen Sie, dass die Ergebnisse stimmen.\n",
    "\n",
    "b) Fassen Sie die Bedeutung der gelben und der grünen Strecke in Worte.\n",
    "\n",
    "c) Elif: \"Ich kann der Abbildung die Antwort auf die Frage entnehmen, ob die relative Häufigkeit h=0,18 Anlass bietet, die Wahrscheinlichkeit p=0,26 zu bezweifeln.\" Erläutern Sie Elifs Aussage und zu welchem Ergebnis Elif kommt.\n",
    "\n",
    "d) Ümü: \"Die Antwort auf Elifs Frage hängt davon ab, ob man exakt oder mit der Näherung arbeitet.\" Prüfen und kommentieren Sie."
   ]
  },
  {
   "cell_type": "code",
   "execution_count": 187,
   "id": "5bbe0cc4-d152-4ca8-b062-0f03ece724e7",
   "metadata": {
    "jupyter": {
     "source_hidden": true
    },
    "tags": []
   },
   "outputs": [
    {
     "data": {
      "application/vnd.jupyter.widget-view+json": {
       "model_id": "e92b5491794a41a49155e20aeab68fb5",
       "version_major": 2,
       "version_minor": 0
      },
      "text/plain": [
       "interactive(children=(FloatSlider(value=1.96, description='c', max=3.0, min=1.0, step=0.01), IntSlider(value=1…"
      ]
     },
     "metadata": {},
     "output_type": "display_data"
    }
   ],
   "source": [
    "import numpy as np\n",
    "import matplotlib.pyplot as plt\n",
    "import ipywidgets as widgets\n",
    "from IPython.display import display\n",
    "from scipy.stats import norm, beta\n",
    "from scipy.optimize import root_scalar\n",
    "import warnings\n",
    "\n",
    "warnings.simplefilter(\"ignore\")\n",
    "\n",
    "def wilson_ci_bounds(h, n, c):\n",
    "    A = 1 + c**2 / n\n",
    "    B = -2 * h - c**2 / n\n",
    "    C = h**2\n",
    "    \n",
    "    def equation(p):\n",
    "        return A * p**2 + B * p + C\n",
    "    \n",
    "    lower_bound = root_scalar(equation, bracket=[0, h], method='brentq').root\n",
    "    upper_bound = root_scalar(equation, bracket=[h, 1], method='brentq').root\n",
    "    \n",
    "    return lower_bound, upper_bound\n",
    "\n",
    "def clopper_pearson_ci(h, n,c):\n",
    "    alpha = 2 * (1 - norm.cdf(c))  # Berechnung von alpha aus c\n",
    "    lower_bound = beta.ppf(alpha / 2, h, n - h + 1)\n",
    "    upper_bound = beta.ppf(1 - alpha / 2, h + 1, n - h)\n",
    "    return lower_bound, upper_bound\n",
    "\n",
    "def wald_ci(h, n, c):\n",
    "    se = np.sqrt(h * (1 - h) / n)\n",
    "    lower_bound = h - c * se\n",
    "    upper_bound = h + c * se\n",
    "    return max(0, lower_bound), min(1, upper_bound)\n",
    "\n",
    "def plot_confidence_ellipse(h, n, c, p_value):\n",
    "    p = np.linspace(0, 1, 1000)  # p-Werte als x-Achse\n",
    "    f1 = p - c * np.sqrt(p * (1 - p) / n)\n",
    "    f2 = p + c * np.sqrt(p * (1 - p) / n)\n",
    "    lower_wilson, upper_wilson = wilson_ci_bounds(h, n, c)\n",
    "    lower_cp, upper_cp = clopper_pearson_ci(h * n, n,c)\n",
    "    lower_wald, upper_wald = wald_ci(h, n, c)\n",
    "    \n",
    "    # Prognoseintervall für gegebenes p\n",
    "    f1_p = p_value - c * np.sqrt(p_value * (1 - p_value) / n)\n",
    "    f2_p = p_value + c * np.sqrt(p_value * (1 - p_value) / n)\n",
    "    \n",
    "    plt.figure(figsize=(6,6))\n",
    "    plt.plot(p, f1, 'r', label=\"$f_-(p)$\")\n",
    "    plt.plot(p, f2, 'b', label=\"$f_+(p)$\")\n",
    "    plt.axhline(h, color='gray', linestyle='dashed')\n",
    "    plt.axvline(p_value, color='gray', linestyle='dashed')\n",
    "    \n",
    "    # Prognoseintervall\n",
    "    plt.plot([p_value, p_value], [f1_p, f2_p], 'm-', linewidth=3, label=\"Prognoseintervall\")\n",
    "    \n",
    "    # Wilson-Konfidenzintervall (grün)\n",
    "    plt.plot([lower_wilson, upper_wilson], [h, h], 'g-', linewidth=3, label=\"Wilson-KI\")\n",
    "    \n",
    "    # Clopper-Pearson-Konfidenzintervall (orange)\n",
    "    #plt.plot([lower_cp, upper_cp], [h, h], 'orange', linewidth=2, label=\"Clopper-Pearson-KI\")\n",
    "    \n",
    "    # Wald-Konfidenzintervall (blau)\n",
    "    #plt.plot([lower_wald, upper_wald], [h, h], 'b-', linewidth=2, label=\"Wald-KI\")\n",
    "    \n",
    "    plt.scatter([lower_wilson, upper_wilson], [h, h], color='black', s=20, zorder=3)\n",
    "    plt.scatter([p_value, p_value], [f1_p, f2_p], color='black', s=20, zorder=3)\n",
    "    #plt.scatter([lower_cp, upper_cp], [h, h], color='red', zorder=3)\n",
    "    #plt.scatter([lower_wald, upper_wald], [h, h], color='blue', zorder=3)\n",
    "    plt.fill_between(p, f1, f2, color='gray', alpha=0.1)\n",
    "    \n",
    "    # Punkte (0,h) und (p,0)\n",
    "    plt.scatter([0, p_value], [h, 0], color='black', marker='o', zorder=3)\n",
    "    \n",
    "    plt.xlabel(\"p (unbekannter Parameter)\",fontsize=12)\n",
    "    plt.ylabel(\"h (Stichprobenergebnis)\",fontsize=12)\n",
    "    plt.legend(fontsize=11)\n",
    "    plt.title(f\"Wilson-Konfidenzellipse ({round(norm.cdf(c) * 2 - 1, 3) * 100}% Konfidenzintervall)\",\n",
    "              fontsize=12)\n",
    "    plt.grid(True)\n",
    "    plt.show()\n",
    "    \n",
    "    print(f\"Prognoseintervall für p={p_value:.2f}: [{f1_p:.4f}, {f2_p:.4f}]\")\n",
    "    print()\n",
    "    print(f\"Wilson-Konfidenzintervall: [{lower_wilson:.4f}, {upper_wilson:.4f}]\")\n",
    "    print(f\"Clopper-Pearson-Konfidenzintervall: [{lower_cp:.4f}, {upper_cp:.4f}]\")\n",
    "    print(f\"Wald-Konfidenzintervall: [{lower_wald:.4f}, {upper_wald:.4f}]\")\n",
    "   \n",
    "\n",
    "def interactive_plot(c, n, h, p_value):\n",
    "    plot_confidence_ellipse(h, n, c, p_value)\n",
    "\n",
    "c_slider = widgets.FloatSlider(min=1.0, max=3.0, step=0.01, value=1.96, description=\"c\")\n",
    "n_slider = widgets.IntSlider(min=10, max=1000, step=10, value=100, description=\"n\")\n",
    "h_slider = widgets.FloatSlider(min=0.01, max=0.99, step=0.01, value=0.18, description=\"h\")\n",
    "p_slider = widgets.FloatSlider(min=0.01, max=0.99, step=0.01, value=0.26, description=\"p\")\n",
    "\n",
    "widgets.interactive(interactive_plot, c=c_slider, n=n_slider, h=h_slider, p_value=p_slider)\n"
   ]
  }
 ],
 "metadata": {
  "kernelspec": {
   "display_name": "Python 3 (ipykernel)",
   "language": "python",
   "name": "python3"
  },
  "language_info": {
   "codemirror_mode": {
    "name": "ipython",
    "version": 3
   },
   "file_extension": ".py",
   "mimetype": "text/x-python",
   "name": "python",
   "nbconvert_exporter": "python",
   "pygments_lexer": "ipython3",
   "version": "3.9.7"
  }
 },
 "nbformat": 4,
 "nbformat_minor": 5
}
